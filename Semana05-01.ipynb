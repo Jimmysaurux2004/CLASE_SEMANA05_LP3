{
 "cells": [
  {
   "cell_type": "markdown",
   "id": "aed1dced-8645-42af-bc20-31e3583cf38e",
   "metadata": {
    "id": "aed1dced-8645-42af-bc20-31e3583cf38e"
   },
   "source": [
    "# SEMANA 05\n",
    "Estudiante: Jimmy Alexander Huerta Vasquez"
   ]
  },
  {
   "cell_type": "markdown",
   "id": "2d15c568-3bb4-4284-ac54-e3cedcf110a9",
   "metadata": {
    "id": "2d15c568-3bb4-4284-ac54-e3cedcf110a9"
   },
   "source": [
    "Agenda\n",
    "1. Colecciones de datos\n",
    "2. Estructuras decisivas y repetitivas\n",
    "3. Clases y objetos\n",
    "4. Funciones"
   ]
  },
  {
   "cell_type": "markdown",
   "id": "fad61dc2-435a-497b-b370-bf0dd0fbd2e0",
   "metadata": {
    "id": "fad61dc2-435a-497b-b370-bf0dd0fbd2e0"
   },
   "source": [
    "1. Colecciones de datos"
   ]
  },
  {
   "cell_type": "code",
   "execution_count": 1,
   "id": "f16b7121-1055-46ca-8fac-8238121f4ffe",
   "metadata": {
    "id": "f16b7121-1055-46ca-8fac-8238121f4ffe",
    "outputId": "9fda7415-90b7-4479-c881-5395d9692a18"
   },
   "outputs": [
    {
     "name": "stdout",
     "output_type": "stream",
     "text": [
      "['Huertas', 'Jimenez', 'Rodriguez', 'Caballero']\n"
     ]
    }
   ],
   "source": [
    "#1.1. Listas\n",
    "#Es una colección de elementos que puede ser ordenada, modificada, etc..\n",
    "#Se identifica por los corchetes\n",
    "#Ejemplo:\n",
    "aula = ['Huertas','Jimenez','Rodriguez','Caballero']\n",
    "print(aula)"
   ]
  },
  {
   "cell_type": "code",
   "execution_count": 2,
   "id": "179de74e-94b2-403b-b068-eb5c8da48159",
   "metadata": {
    "id": "179de74e-94b2-403b-b068-eb5c8da48159",
    "outputId": "7f53d04f-05b9-4f7b-8170-ef632e20b460"
   },
   "outputs": [
    {
     "data": {
      "text/plain": [
       "['Huertas', 'Jimenez', 'Rodriguez', 'Caballero']"
      ]
     },
     "execution_count": 2,
     "metadata": {},
     "output_type": "execute_result"
    }
   ],
   "source": [
    "#Tambien se puede imprimir con solo mencionar la lista\n",
    "aula"
   ]
  },
  {
   "cell_type": "code",
   "execution_count": 3,
   "id": "e841c9af-b3e8-44e6-8f56-ae8531db0bae",
   "metadata": {
    "id": "e841c9af-b3e8-44e6-8f56-ae8531db0bae",
    "outputId": "b2aec624-8d33-4c2d-a54b-f7ce6a890136"
   },
   "outputs": [
    {
     "name": "stdout",
     "output_type": "stream",
     "text": [
      "Huertas\n",
      "Jimenez\n"
     ]
    }
   ],
   "source": [
    "#Podemos extraer cada elemento por su posición\n",
    "print(aula[0])\n",
    "print(aula[1])"
   ]
  },
  {
   "cell_type": "code",
   "execution_count": 8,
   "id": "1f93b878-02c2-40f5-a101-86cd8a4dd41e",
   "metadata": {
    "id": "1f93b878-02c2-40f5-a101-86cd8a4dd41e",
    "outputId": "e0d56a84-dfb2-4f25-98e6-89dd13e8cd16"
   },
   "outputs": [
    {
     "data": {
      "text/plain": [
       "'Villanueva'"
      ]
     },
     "execution_count": 8,
     "metadata": {},
     "output_type": "execute_result"
    }
   ],
   "source": [
    "#Puedo asignar un valor a una posición de la lista, reemplazar en caso esa posición ya exista\n",
    "aula[1] = 'Villanueva'\n",
    "aula[1]"
   ]
  },
  {
   "cell_type": "code",
   "execution_count": 9,
   "id": "11b1d90d-1113-41ca-8003-2e129d060bea",
   "metadata": {
    "id": "11b1d90d-1113-41ca-8003-2e129d060bea",
    "outputId": "e1b8d775-1131-4574-eb33-fed1b55eeadf"
   },
   "outputs": [
    {
     "data": {
      "text/plain": [
       "['Huertas', 'Villanueva', 'Rodriguez', 'Caballero']"
      ]
     },
     "execution_count": 9,
     "metadata": {},
     "output_type": "execute_result"
    }
   ],
   "source": [
    "#Mostramos como quedó la lista\n",
    "aula"
   ]
  },
  {
   "cell_type": "code",
   "execution_count": 10,
   "id": "9e5ff985-f666-40b9-9a6c-d00d12a4ecca",
   "metadata": {
    "id": "9e5ff985-f666-40b9-9a6c-d00d12a4ecca",
    "outputId": "ed07c3f6-758a-42a3-9c33-0185e7ecbeb9"
   },
   "outputs": [
    {
     "data": {
      "text/plain": [
       "['Huertas', 'Villanueva', 'Rodriguez', 'Caballero', 'Mamani', 'Fernandez']"
      ]
     },
     "execution_count": 10,
     "metadata": {},
     "output_type": "execute_result"
    }
   ],
   "source": [
    "#Para agregar un elemento utilizamos append\n",
    "aula.append(\"Mamani\")\n",
    "aula.append(\"Fernandez\")\n",
    "aula"
   ]
  },
  {
   "cell_type": "code",
   "execution_count": 12,
   "id": "6367e673-c6ab-4bee-a965-25743cc8ebfd",
   "metadata": {
    "id": "6367e673-c6ab-4bee-a965-25743cc8ebfd",
    "outputId": "7bb95b3e-e934-4854-d4a8-fb3a35ea79fe"
   },
   "outputs": [
    {
     "data": {
      "text/plain": [
       "['Villanueva', 'Rodriguez', 'Caballero', 'Mamani', 'Fernandez']"
      ]
     },
     "execution_count": 12,
     "metadata": {},
     "output_type": "execute_result"
    }
   ],
   "source": [
    "#Para eliminar elementos utilizamos remove[]\n",
    "aula.remove(\"Huertas\")\n",
    "aula"
   ]
  },
  {
   "cell_type": "code",
   "execution_count": 13,
   "id": "cc810563-b1d0-48e1-9afb-4a8c5de5fa83",
   "metadata": {
    "id": "cc810563-b1d0-48e1-9afb-4a8c5de5fa83",
    "outputId": "8a07b739-2a8a-46bb-9d16-65c37c7809b4"
   },
   "outputs": [
    {
     "data": {
      "text/plain": [
       "['Villanueva', 'Rodriguez', 'Caballero', 'Fernandez']"
      ]
     },
     "execution_count": 13,
     "metadata": {},
     "output_type": "execute_result"
    }
   ],
   "source": [
    "#Si hubiera varios elementos de valores iguales se elimina la primera coincidencia\n",
    "aula.remove(\"Mamani\")\n",
    "aula"
   ]
  },
  {
   "cell_type": "code",
   "execution_count": 14,
   "id": "8992792d-ffd8-4c7f-9e3a-3b94b8c04cc5",
   "metadata": {
    "id": "8992792d-ffd8-4c7f-9e3a-3b94b8c04cc5",
    "outputId": "10972779-d5b2-46f6-f0a5-76f6ac01ee5b"
   },
   "outputs": [
    {
     "data": {
      "text/plain": [
       "4"
      ]
     },
     "execution_count": 14,
     "metadata": {},
     "output_type": "execute_result"
    }
   ],
   "source": [
    "#Para obtener el tamaño utilizamos len()\n",
    "len(aula)"
   ]
  },
  {
   "cell_type": "code",
   "execution_count": 15,
   "id": "45b91a19-8f78-40a0-81ee-3d35024e6cba",
   "metadata": {
    "id": "45b91a19-8f78-40a0-81ee-3d35024e6cba",
    "outputId": "102d3df3-1cc7-4416-82d5-11771b9e4c8c"
   },
   "outputs": [
    {
     "name": "stdout",
     "output_type": "stream",
     "text": [
      "Villanueva\n",
      "Rodriguez\n",
      "Caballero\n",
      "Fernandez\n"
     ]
    }
   ],
   "source": [
    "#Para recorrrer podemos utilizar una estructura repetitiva\n",
    "for alumno in aula:\n",
    "    print(alumno)"
   ]
  },
  {
   "cell_type": "code",
   "execution_count": 18,
   "id": "4f177406-af2c-4325-96ba-8f6aae43b6ac",
   "metadata": {
    "id": "4f177406-af2c-4325-96ba-8f6aae43b6ac",
    "outputId": "d0e20548-b690-4d0c-ecf9-fd9da38106c8"
   },
   "outputs": [
    {
     "data": {
      "text/plain": [
       "['Fernandez', 'Caballero', 'Rodriguez', 'Villanueva']"
      ]
     },
     "execution_count": 18,
     "metadata": {},
     "output_type": "execute_result"
    }
   ],
   "source": [
    "#Para invertir la lista utilizamos reverse()\n",
    "#invertir NO significa ordenar en forma descendente sin invertir la lista\n",
    "aula.reverse()\n",
    "aula"
   ]
  },
  {
   "cell_type": "code",
   "execution_count": 21,
   "id": "c1d95503-e788-470e-8dd2-37b2a09ab3e6",
   "metadata": {
    "id": "c1d95503-e788-470e-8dd2-37b2a09ab3e6",
    "outputId": "bd817384-7ac2-454a-81e5-ee805b3a6c21"
   },
   "outputs": [
    {
     "data": {
      "text/plain": [
       "['Caballero', 'Fernandez', 'Rodriguez', 'Villanueva']"
      ]
     },
     "execution_count": 21,
     "metadata": {},
     "output_type": "execute_result"
    }
   ],
   "source": [
    "#Parar ordenar una lista utilizamos sort()\n",
    "#en caso de cadenas → ordena alfabéticamente\n",
    "#en caso de números → ordena de manera ascente\n",
    "aula.sort()\n",
    "aula"
   ]
  },
  {
   "cell_type": "code",
   "execution_count": 34,
   "id": "3dbe9754-3fed-4418-80bb-18ce71e20d37",
   "metadata": {
    "id": "3dbe9754-3fed-4418-80bb-18ce71e20d37",
    "outputId": "9895bd26-ad32-41aa-a594-4fc553bfd49a"
   },
   "outputs": [
    {
     "data": {
      "text/plain": [
       "('Huertas', 'Bravo', 'Bonifacio', 'Caballero')"
      ]
     },
     "execution_count": 34,
     "metadata": {},
     "output_type": "execute_result"
    }
   ],
   "source": [
    "#1.2 Tuplas\n",
    "#Es una colección de elementos ordenada (Ordenado significa que tiene un índice) que no se pueden modificar, es inalterable.\n",
    "#El orden es de acuerdo a como se ingresan\n",
    "'''\n",
    "-Mutabilidad:\n",
    "Las tuplas son estructuras de datos inmutables, lo que significa que una vez creadas, no se pueden modificar.\n",
    "Los elementos de una tupla no pueden ser cambiados, añadidos o eliminados después de su creación.\n",
    "-Orden:\n",
    "Las tuplas mantienen el orden de los elementos tal como se insertaron. \n",
    "Es decir, el orden de los elementos en una tupla se conserva.\n",
    "-Duplicados:\n",
    "Las tuplas pueden contener elementos duplicados.\n",
    "-Sintaxis:\n",
    "Se definen utilizando paréntesis () y los elementos se separan por comas.\n",
    "'''\n",
    "tupla_aula = ('Huertas','Bravo','Bonifacio','Caballero')\n",
    "tupla_aula"
   ]
  },
  {
   "cell_type": "code",
   "execution_count": 35,
   "id": "80674ed9-be0b-401a-806e-703b35f1a46a",
   "metadata": {
    "id": "80674ed9-be0b-401a-806e-703b35f1a46a",
    "outputId": "46118cc5-6889-45cf-f5af-49307c2e447a"
   },
   "outputs": [
    {
     "data": {
      "text/plain": [
       "'Bonifacio'"
      ]
     },
     "execution_count": 35,
     "metadata": {},
     "output_type": "execute_result"
    }
   ],
   "source": [
    "#Se puede extraer un elemento por su posición\n",
    "tupla_aula[2]"
   ]
  },
  {
   "cell_type": "code",
   "execution_count": 36,
   "id": "08c11f57-2dbc-4e06-8f86-e8a6b6a4a0ed",
   "metadata": {
    "id": "08c11f57-2dbc-4e06-8f86-e8a6b6a4a0ed",
    "outputId": "44a213dd-27e1-44f2-a781-4cca747d7731"
   },
   "outputs": [
    {
     "data": {
      "text/plain": [
       "4"
      ]
     },
     "execution_count": 36,
     "metadata": {},
     "output_type": "execute_result"
    }
   ],
   "source": [
    "#Para saber la cantidad de elementos de una tupla utilizamos len()\n",
    "len(tupla_aula)"
   ]
  },
  {
   "cell_type": "code",
   "execution_count": 48,
   "id": "bd7efb06-3511-4646-881e-9b47cf0380f6",
   "metadata": {
    "id": "bd7efb06-3511-4646-881e-9b47cf0380f6",
    "outputId": "30270297-a7a9-427b-b455-f86805dfbddd"
   },
   "outputs": [
    {
     "data": {
      "text/plain": [
       "{'Bonifacio', 'Bravo', 'Caballero', 'Huertas'}"
      ]
     },
     "execution_count": 48,
     "metadata": {},
     "output_type": "execute_result"
    }
   ],
   "source": [
    "#1.3 Conjuntos\n",
    "#Es una colección de elementos que no está ordenado (Significa que no tiene un índice).\n",
    "'''\n",
    "-Mutabilidad:\n",
    "Los conjuntos son estructuras de datos mutables. Puedes agregar y eliminar elementos de un conjunto después de su creación.\n",
    "-Orden:\n",
    "Los conjuntos no mantienen ningún orden específico de los elementos.\n",
    "Los elementos de un conjunto se almacenan de manera desordenada y no se garantiza ningún orden particular al iterar sobre ellos.\n",
    "-Duplicados:\n",
    "Los conjuntos no pueden contener elementos duplicados.\n",
    "Si intentas agregar un elemento que ya está presente en el conjunto, no tendrá ningún efecto.\n",
    "-Sintaxis:\n",
    "Se definen utilizando llaves {} o la función set() y los elementos se separan por comas.\n",
    "Sin embargo, si defines un conjunto vacío, debes usar set(), ya que {} se interpreta como un diccionario vacío.\n",
    "'''\n",
    "conjunto_aula = {'Huertas','Bravo','Bonifacio','Caballero'}\n",
    "conjunto_aula"
   ]
  },
  {
   "cell_type": "code",
   "execution_count": 50,
   "id": "94e1b6ef-ccfa-4c70-abe9-33d02c3e8004",
   "metadata": {
    "id": "94e1b6ef-ccfa-4c70-abe9-33d02c3e8004",
    "outputId": "15d1f650-3b86-4367-dfd7-b80491fe63f1"
   },
   "outputs": [
    {
     "name": "stdout",
     "output_type": "stream",
     "text": [
      "Bonifacio\n",
      "Bravo\n",
      "Huertas\n",
      "Caballero\n"
     ]
    }
   ],
   "source": [
    "#Se puede recorrer utilizando una estructura repetitiva\n",
    "#Ejemplo: for\n",
    "for alumno in conjunto_aula:\n",
    "    print(alumno)"
   ]
  },
  {
   "cell_type": "code",
   "execution_count": 51,
   "id": "4627ec97-6b10-4fc4-a006-8283926d82fe",
   "metadata": {
    "id": "4627ec97-6b10-4fc4-a006-8283926d82fe"
   },
   "outputs": [],
   "source": [
    "#Observación: No se puede acceder por posición pues no considera indexación\n",
    "#Por ejemplo:\n",
    "#conjunto_aula[2] devolvería un mensaje de error (PREGUNTA DE EXAMEN)"
   ]
  },
  {
   "cell_type": "code",
   "execution_count": 52,
   "id": "f737d2ff-87ab-44a9-94e4-1b44c9597fec",
   "metadata": {
    "id": "f737d2ff-87ab-44a9-94e4-1b44c9597fec",
    "outputId": "abaa2e77-0c0a-4183-e3a1-78f4651e19b3"
   },
   "outputs": [
    {
     "data": {
      "text/plain": [
       "4"
      ]
     },
     "execution_count": 52,
     "metadata": {},
     "output_type": "execute_result"
    }
   ],
   "source": [
    "#Para saber la cantidad de elementos utilizamos len()\n",
    "len(conjunto_aula)"
   ]
  },
  {
   "cell_type": "code",
   "execution_count": 53,
   "id": "9f837f5d-afbe-47f3-a33e-65d8d5266598",
   "metadata": {
    "id": "9f837f5d-afbe-47f3-a33e-65d8d5266598",
    "outputId": "0d471734-4e61-4edc-8835-18fcdda36218"
   },
   "outputs": [
    {
     "data": {
      "text/plain": [
       "{'Bonifacio', 'Bravo', 'Caballero', 'Huertas', 'Paye'}"
      ]
     },
     "execution_count": 53,
     "metadata": {},
     "output_type": "execute_result"
    }
   ],
   "source": [
    "#Para agregar utilizamos la función add()\n",
    "conjunto_aula.add(\"Paye\")\n",
    "conjunto_aula"
   ]
  },
  {
   "cell_type": "code",
   "execution_count": 54,
   "id": "daaa0399-7a9d-461a-8fa2-6f90dfed76b9",
   "metadata": {
    "id": "daaa0399-7a9d-461a-8fa2-6f90dfed76b9",
    "outputId": "a15e7516-7e64-4de1-90b9-d531aec62e5c"
   },
   "outputs": [
    {
     "data": {
      "text/plain": [
       "{'Bonifacio', 'Caballero', 'Huertas', 'Paye'}"
      ]
     },
     "execution_count": 54,
     "metadata": {},
     "output_type": "execute_result"
    }
   ],
   "source": [
    "#Parar eliminar elementos utilizamos la función remove()\n",
    "conjunto_aula.remove(\"Bravo\")\n",
    "conjunto_aula"
   ]
  },
  {
   "cell_type": "code",
   "execution_count": 62,
   "id": "90fc5114-501a-4c61-8fa8-9ff2d3f92281",
   "metadata": {
    "id": "90fc5114-501a-4c61-8fa8-9ff2d3f92281",
    "outputId": "544b9df2-dd38-4481-8f9a-59a122f2980d"
   },
   "outputs": [
    {
     "data": {
      "text/plain": [
       "{2: 'Huertas', '1': 'Bravo', 'dos': 'Bonifacio', '3': 'Caballero'}"
      ]
     },
     "execution_count": 62,
     "metadata": {},
     "output_type": "execute_result"
    }
   ],
   "source": [
    "#1.4. Diccionarios\n",
    "#Es una colección de elementos, que están indexados,\n",
    "#no estan ordenados y se pueden modificar\n",
    "#Son escritos entre llaves y están formados por pares de elementos\n",
    "#INDICE:VALOR\n",
    "diccionario_aula = {2:'Huertas', '1':'Bravo', 'dos':'Bonifacio', '3':'Caballero'}\n",
    "diccionario_aula"
   ]
  },
  {
   "cell_type": "code",
   "execution_count": 63,
   "id": "c662036b-4dcb-439a-b211-55ed5fe58f79",
   "metadata": {
    "id": "c662036b-4dcb-439a-b211-55ed5fe58f79",
    "outputId": "28d1af89-d811-46e0-a373-80b6328861d7"
   },
   "outputs": [
    {
     "data": {
      "text/plain": [
       "'Bravo'"
      ]
     },
     "execution_count": 63,
     "metadata": {},
     "output_type": "execute_result"
    }
   ],
   "source": [
    "#Del Diccionario: diccionario_aula extraer el valor cuyo índice sea cero en String:\n",
    "diccionario_aula['1']"
   ]
  },
  {
   "cell_type": "code",
   "execution_count": 64,
   "id": "d0dd7b1c-2d1b-40a8-ba67-ed8524cc5cc3",
   "metadata": {
    "id": "d0dd7b1c-2d1b-40a8-ba67-ed8524cc5cc3",
    "outputId": "3e341cd8-9079-46db-ad59-819d73673bb4"
   },
   "outputs": [
    {
     "data": {
      "text/plain": [
       "'Huertas'"
      ]
     },
     "execution_count": 64,
     "metadata": {},
     "output_type": "execute_result"
    }
   ],
   "source": [
    "diccionario_aula[2]"
   ]
  },
  {
   "cell_type": "code",
   "execution_count": 65,
   "id": "551ad612-b848-4f57-93a1-622a79378fd2",
   "metadata": {
    "id": "551ad612-b848-4f57-93a1-622a79378fd2",
    "outputId": "4bb15b14-00d8-499b-abd1-bdf81b6a6d58"
   },
   "outputs": [
    {
     "data": {
      "text/plain": [
       "'Bonifacio'"
      ]
     },
     "execution_count": 65,
     "metadata": {},
     "output_type": "execute_result"
    }
   ],
   "source": [
    "diccionario_aula[\"dos\"]"
   ]
  },
  {
   "cell_type": "code",
   "execution_count": 66,
   "id": "1b12556e-db98-449f-b7bf-925d60d99c8b",
   "metadata": {
    "id": "1b12556e-db98-449f-b7bf-925d60d99c8b",
    "outputId": "32b361d4-e2e8-493e-d150-5788163e2faf"
   },
   "outputs": [
    {
     "data": {
      "text/plain": [
       "{2: 'Huertas',\n",
       " '1': 'Bravo',\n",
       " 'dos': 'Bonifacio',\n",
       " '3': 'Caballero',\n",
       " '20': 'Velez'}"
      ]
     },
     "execution_count": 66,
     "metadata": {},
     "output_type": "execute_result"
    }
   ],
   "source": [
    "#Para añadir un par de elementos al diccionario hacemos:\n",
    "diccionario_aula['20'] = \"Velez\"\n",
    "diccionario_aula"
   ]
  },
  {
   "cell_type": "code",
   "execution_count": 67,
   "id": "93cef097-f37f-411c-a566-460877599437",
   "metadata": {
    "id": "93cef097-f37f-411c-a566-460877599437",
    "outputId": "ecf86f4e-594c-48fd-b2d1-ad9a11ef516d"
   },
   "outputs": [
    {
     "data": {
      "text/plain": [
       "{'1': 'Bravo', 'dos': 'Bonifacio', '3': 'Caballero', '20': 'Velez'}"
      ]
     },
     "execution_count": 67,
     "metadata": {},
     "output_type": "execute_result"
    }
   ],
   "source": [
    "#Para eliminar un valor se utiliza pop()\n",
    "#Por ejemplo, eliminar el elemento de índice \"dos\".\n",
    "#Para eliminar a Huertas que tendríamos que hacer:\n",
    "diccionario_aula.pop(2)\n",
    "diccionario_aula"
   ]
  },
  {
   "cell_type": "code",
   "execution_count": 68,
   "id": "300fbfcb-9fc6-460f-a8f5-e973aed43f39",
   "metadata": {
    "id": "300fbfcb-9fc6-460f-a8f5-e973aed43f39",
    "outputId": "1f37835d-3250-4631-9223-40f596882df3"
   },
   "outputs": [
    {
     "data": {
      "text/plain": [
       "{'1': 'Bravo', '3': 'Caballero', '20': 'Velez'}"
      ]
     },
     "execution_count": 68,
     "metadata": {},
     "output_type": "execute_result"
    }
   ],
   "source": [
    "#Tambien se puede eliminar utilizando del()\n",
    "#Para eliminar a Bonifacio que tendríamos que hacer:\n",
    "del(diccionario_aula[\"dos\"])\n",
    "diccionario_aula"
   ]
  },
  {
   "cell_type": "code",
   "execution_count": 69,
   "id": "ec641219-dd7c-4c0a-b52e-087afce3f6c2",
   "metadata": {
    "id": "ec641219-dd7c-4c0a-b52e-087afce3f6c2",
    "outputId": "fade7328-6c86-4c74-eed6-916cc3335f16"
   },
   "outputs": [
    {
     "name": "stdout",
     "output_type": "stream",
     "text": [
      "1\n",
      "3\n",
      "20\n"
     ]
    }
   ],
   "source": [
    "#Para recorrer todos los elementos podemos utilizar for\n",
    "#En este ejemplo devuelve los índices\n",
    "for indice in diccionario_aula:\n",
    "    print(indice)"
   ]
  },
  {
   "cell_type": "code",
   "execution_count": 70,
   "id": "aae9d21e-60b8-42c1-9afa-908161b2c2b5",
   "metadata": {
    "id": "aae9d21e-60b8-42c1-9afa-908161b2c2b5",
    "outputId": "2075aabf-6b66-46f4-8348-2b58d1137e9d"
   },
   "outputs": [
    {
     "name": "stdout",
     "output_type": "stream",
     "text": [
      "1 Bravo\n",
      "3 Caballero\n",
      "20 Velez\n"
     ]
    }
   ],
   "source": [
    "#Para obtener el indice y el valor de cada elemento utilizamos items()\n",
    "for indice, valor in diccionario_aula.items():\n",
    "    print(indice, valor)"
   ]
  },
  {
   "cell_type": "code",
   "execution_count": 71,
   "id": "b2aea5fe-09bb-48fa-9e28-f8d071a2bdfe",
   "metadata": {
    "id": "b2aea5fe-09bb-48fa-9e28-f8d071a2bdfe"
   },
   "outputs": [],
   "source": [
    "#1.5. Ejercicio\n",
    "#Dado una lista de [BERNAL, BERNAOLA, CABALLERO, CALDERON, CARRASCO, CENTENO, CHALQUE, CHAVEZ, CONDORI, CRUZ, PALACIOS, PALOMINO, QUISPE, RAMOS, RODAS, SILVERA, TALAVERA, TINEO, VICTORIO, VILCA, ZEA]\n",
    "#Diseñar un código que muestre si el apellido de un estudiante (Ingresado por teclado) forma parte de la lista\n",
    "#tiempo: 12 minutos"
   ]
  },
  {
   "cell_type": "code",
   "execution_count": 74,
   "id": "fdf526be-cb20-4aeb-9314-1fc2c13414f5",
   "metadata": {
    "id": "fdf526be-cb20-4aeb-9314-1fc2c13414f5",
    "outputId": "dd44565b-8ae7-4b0e-d083-5367bfb15871"
   },
   "outputs": [
    {
     "name": "stdout",
     "output_type": "stream",
     "text": [
      "Ingrese apellido: \n"
     ]
    },
    {
     "name": "stdout",
     "output_type": "stream",
     "text": [
      " Hurtado\n"
     ]
    },
    {
     "data": {
      "text/plain": [
       "False"
      ]
     },
     "execution_count": 74,
     "metadata": {},
     "output_type": "execute_result"
    }
   ],
   "source": [
    "#Solución\n",
    "aula = ['Bernal', 'Bernaola', 'Caballero', 'Calderon', 'Carrasco', 'Centeno', 'Chalque', 'Chavez', 'Condori', 'Cruz', 'Palacios', 'Palomino', 'Quispe', 'Ramos', 'Rodas', 'Silvera', 'Talavera', 'Tineo', 'Victorio', 'Vilca', 'Zea']\n",
    "print(\"Ingrese apellido: \")\n",
    "apellido = input()\n",
    "apellido in aula"
   ]
  },
  {
   "cell_type": "code",
   "execution_count": 75,
   "id": "eb87b5ea-53b3-40b8-991b-7b2ba30de88f",
   "metadata": {
    "id": "eb87b5ea-53b3-40b8-991b-7b2ba30de88f",
    "outputId": "03671805-8bc8-435a-b541-3711c8eb8560"
   },
   "outputs": [
    {
     "name": "stdout",
     "output_type": "stream",
     "text": [
      "Ingrese apellido: \n"
     ]
    },
    {
     "name": "stdout",
     "output_type": "stream",
     "text": [
      " Hurtado\n"
     ]
    },
    {
     "name": "stdout",
     "output_type": "stream",
     "text": [
      "El apellido no está en la lista.\n"
     ]
    }
   ],
   "source": [
    "#Solución mejorada con If y Else\n",
    "aula = ['Bernal', 'Bernaola', 'Caballero', 'Calderon', 'Carrasco', 'Centeno', 'Chalque', 'Chavez', 'Condori', 'Cruz', 'Palacios', 'Palomino', 'Quispe', 'Ramos', 'Rodas', 'Silvera', 'Talavera', 'Tineo', 'Victorio', 'Vilca', 'Zea']\n",
    "print(\"Ingrese apellido: \")\n",
    "apellido = input()\n",
    "if apellido in aula:\n",
    "    print(\"¡El apellido está en la lista!\")\n",
    "else:\n",
    "    print(\"El apellido no está en la lista.\")"
   ]
  },
  {
   "cell_type": "code",
   "execution_count": null,
   "id": "783d0471-10e3-4632-b18e-8da2bd253f08",
   "metadata": {
    "id": "783d0471-10e3-4632-b18e-8da2bd253f08"
   },
   "outputs": [],
   "source": []
  }
 ],
 "metadata": {
  "colab": {
   "provenance": []
  },
  "kernelspec": {
   "display_name": "Python 3 (ipykernel)",
   "language": "python",
   "name": "python3"
  },
  "language_info": {
   "codemirror_mode": {
    "name": "ipython",
    "version": 3
   },
   "file_extension": ".py",
   "mimetype": "text/x-python",
   "name": "python",
   "nbconvert_exporter": "python",
   "pygments_lexer": "ipython3",
   "version": "3.11.7"
  }
 },
 "nbformat": 4,
 "nbformat_minor": 5
}
