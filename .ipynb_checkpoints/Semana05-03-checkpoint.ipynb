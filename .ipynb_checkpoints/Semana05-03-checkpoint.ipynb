{
 "cells": [
  {
   "cell_type": "markdown",
   "id": "42dc3b8d-6f0e-43a8-9e2b-0a9e827c2538",
   "metadata": {},
   "source": [
    "# SEMANA 05\n",
    "Estudiante: Jimmy Alexander Huerta Vasquez"
   ]
  },
  {
   "cell_type": "markdown",
   "id": "e1ecebfb-8abf-4010-b794-ca98c176f8e2",
   "metadata": {},
   "source": [
    "Agenda\n",
    "1. Colecciones de datos\n",
    "2. Estructuras decisivas y repetitivas\n",
    "3. Clases y objetos\n",
    "4. Funciones"
   ]
  },
  {
   "cell_type": "markdown",
   "id": "fc1a51b0-b69e-4fe9-afe7-eaeedc42a67e",
   "metadata": {},
   "source": [
    "3. Clases y objetos"
   ]
  },
  {
   "cell_type": "code",
   "execution_count": 1,
   "id": "0f7f376f-a9c0-4ce8-9c0e-916edbaaf1ae",
   "metadata": {},
   "outputs": [],
   "source": [
    "#Problema 01\n",
    "\n",
    "#Crear la siguiente clase:\n",
    "#  - Clase: Persona\n",
    "#  - Atributos: nombre, apellido, fecha_nacimiento, dni"
   ]
  },
  {
   "cell_type": "code",
   "execution_count": 2,
   "id": "a7247f14-7efa-40d7-9427-b75c5a98863b",
   "metadata": {},
   "outputs": [],
   "source": [
    "class Persona:\n",
    "    nombre = \"\"\n",
    "    apellidos = \"\"\n",
    "    dni = \"\"\n",
    "    talla = 0"
   ]
  },
  {
   "cell_type": "code",
   "execution_count": 3,
   "id": "fb15a5de-1494-4d22-bbc8-03718d674990",
   "metadata": {},
   "outputs": [
    {
     "name": "stdout",
     "output_type": "stream",
     "text": [
      "persona1\n",
      "Nombre: Orlando\n",
      "Apellidos: Perez Prado\n",
      "DNI: 12345678\n",
      "Talla: 1.7\n"
     ]
    }
   ],
   "source": [
    "#Creamos un objeto persona1 de la clase Persona()\n",
    "#y le asignamos valores\n",
    "\n",
    "#Creación del objeto persona1\n",
    "persona1 = Persona()\n",
    "\n",
    "#Asignamos valores al objeto\n",
    "persona1.nombre = \"Orlando\"\n",
    "persona1.apellidos = \"Perez Prado\"\n",
    "persona1.dni = \"12345678\"\n",
    "persona1.talla = 1.7\n",
    "\n",
    "#Para mostrar valores del objeto:\n",
    "print(\"persona1\")\n",
    "print(f\"Nombre: {persona1.nombre}\")\n",
    "print(f\"Apellidos: {persona1.apellidos}\")\n",
    "print(f\"DNI: {persona1.dni}\")\n",
    "print(f\"Talla: {persona1.talla}\")"
   ]
  },
  {
   "cell_type": "code",
   "execution_count": 4,
   "id": "0ec623d4-6eb7-42c1-9c1e-612599d14920",
   "metadata": {},
   "outputs": [],
   "source": [
    "#Para utilizar constructores utilizamos: __init__\n",
    "#¿Qué es un constructor?\n",
    "#- Es un método\n",
    "#- Sirve para inicializar valores a una clase"
   ]
  },
  {
   "cell_type": "code",
   "execution_count": 5,
   "id": "60f57e96-c3a7-4535-8857-f35d4c32e302",
   "metadata": {},
   "outputs": [],
   "source": [
    "#Problema 02:\n",
    "\n",
    "#Crear la siguiente clase y utilizar constructores:\n",
    "#- Clase: Curso\n",
    "#- Atributos: Codigo, Nombre, horas, creditos,"
   ]
  },
  {
   "cell_type": "code",
   "execution_count": 6,
   "id": "81e2e174-d04a-44e3-9b39-d22db8a4df57",
   "metadata": {},
   "outputs": [],
   "source": [
    "#Solución:\n",
    "class curso:\n",
    "    def __init__(self, codigo, nombre, horas, creditos):\n",
    "        self.codigo = codigo\n",
    "        self.nombre = nombre\n",
    "        self.horas = horas\n",
    "        self.creditos = creditos\n",
    "\n",
    "    def mostrar_datos_curso(self):\n",
    "        print(f\"Curso: {self.nombre}\")\n",
    "        print(f\"Código: {self.codigo}\")\n",
    "        print(f\"Horas: {self.horas}\")\n",
    "        print(f\"Créditos: {self.creditos}\")"
   ]
  },
  {
   "cell_type": "code",
   "execution_count": 7,
   "id": "68d3e9de-6ec0-4e61-bf37-092d3431d4c0",
   "metadata": {},
   "outputs": [],
   "source": [
    "#Creamos el objeto curso1 y le mandamos parámetros\n",
    "curso1 = curso(\"C0501\",\"LP3\",6,3)"
   ]
  },
  {
   "cell_type": "code",
   "execution_count": 8,
   "id": "be28ad87-2f02-471b-9d63-87e8557e557d",
   "metadata": {},
   "outputs": [
    {
     "name": "stdout",
     "output_type": "stream",
     "text": [
      "Curso: LP3\n",
      "Código: C0501\n",
      "Horas: 6\n",
      "Créditos: 3\n"
     ]
    }
   ],
   "source": [
    "#Mostramos los datos completos del curso, ejecutando el metodo mostrar_datos_curso()\n",
    "curso1.mostrar_datos_curso();"
   ]
  },
  {
   "cell_type": "code",
   "execution_count": null,
   "id": "b7abf978-2746-40d1-aa33-73e2af406912",
   "metadata": {},
   "outputs": [],
   "source": []
  }
 ],
 "metadata": {
  "kernelspec": {
   "display_name": "Python 3 (ipykernel)",
   "language": "python",
   "name": "python3"
  },
  "language_info": {
   "codemirror_mode": {
    "name": "ipython",
    "version": 3
   },
   "file_extension": ".py",
   "mimetype": "text/x-python",
   "name": "python",
   "nbconvert_exporter": "python",
   "pygments_lexer": "ipython3",
   "version": "3.11.7"
  }
 },
 "nbformat": 4,
 "nbformat_minor": 5
}
