{
 "cells": [
  {
   "cell_type": "markdown",
   "id": "aed1dced-8645-42af-bc20-31e3583cf38e",
   "metadata": {},
   "source": [
    "# SEMANA 05\n",
    "Estudiante: Jimmy Alexander Huerta Vasquez"
   ]
  },
  {
   "cell_type": "markdown",
   "id": "2d15c568-3bb4-4284-ac54-e3cedcf110a9",
   "metadata": {},
   "source": [
    "Agenda\n",
    "1. Colecciones de datos\n",
    "2. Estructuras decisivas y repetitivas\n",
    "3. Clases y objetos\n",
    "4. Funciones"
   ]
  },
  {
   "cell_type": "markdown",
   "id": "fad61dc2-435a-497b-b370-bf0dd0fbd2e0",
   "metadata": {},
   "source": [
    "1. Colecciones de datos"
   ]
  },
  {
   "cell_type": "code",
   "execution_count": 3,
   "id": "f16b7121-1055-46ca-8fac-8238121f4ffe",
   "metadata": {},
   "outputs": [
    {
     "name": "stdout",
     "output_type": "stream",
     "text": [
      "['Bernaola', 'Chipana', 'Gomez', 'Navarro']\n"
     ]
    }
   ],
   "source": [
    "#1.1. Listas\n",
    "#Es una colección de elementos que puede ser ordenada, modificada, etc..\n",
    "#Se identifica por los corchetes\n",
    "#Ejemplo:\n",
    "aula = ['Bernaola','Chipana','Gomez','Navarro']\n",
    "print(aula)"
   ]
  },
  {
   "cell_type": "code",
   "execution_count": 4,
   "id": "179de74e-94b2-403b-b068-eb5c8da48159",
   "metadata": {},
   "outputs": [
    {
     "data": {
      "text/plain": [
       "['Bernaola', 'Chipana', 'Gomez', 'Navarro']"
      ]
     },
     "execution_count": 4,
     "metadata": {},
     "output_type": "execute_result"
    }
   ],
   "source": [
    "#Tambien se puede imprimir con solo mencionar la lista\n",
    "aula"
   ]
  },
  {
   "cell_type": "code",
   "execution_count": 5,
   "id": "e841c9af-b3e8-44e6-8f56-ae8531db0bae",
   "metadata": {},
   "outputs": [
    {
     "name": "stdout",
     "output_type": "stream",
     "text": [
      "Bernaola\n",
      "Chipana\n"
     ]
    }
   ],
   "source": [
    "#Podemos extraer cada elemento por su posición\n",
    "print(aula[0])\n",
    "print(aula[1])"
   ]
  },
  {
   "cell_type": "code",
   "execution_count": 6,
   "id": "1f93b878-02c2-40f5-a101-86cd8a4dd41e",
   "metadata": {},
   "outputs": [
    {
     "data": {
      "text/plain": [
       "'Chavez'"
      ]
     },
     "execution_count": 6,
     "metadata": {},
     "output_type": "execute_result"
    }
   ],
   "source": [
    "#Puedo asignar un valor a una posición de la lista\n",
    "aula[1] = 'Chavez'\n",
    "aula[1]"
   ]
  },
  {
   "cell_type": "code",
   "execution_count": 7,
   "id": "11b1d90d-1113-41ca-8003-2e129d060bea",
   "metadata": {},
   "outputs": [
    {
     "data": {
      "text/plain": [
       "['Bernaola', 'Chavez', 'Gomez', 'Navarro']"
      ]
     },
     "execution_count": 7,
     "metadata": {},
     "output_type": "execute_result"
    }
   ],
   "source": [
    "#Mostramos como quedó la lista\n",
    "aula"
   ]
  },
  {
   "cell_type": "code",
   "execution_count": 8,
   "id": "9e5ff985-f666-40b9-9a6c-d00d12a4ecca",
   "metadata": {},
   "outputs": [
    {
     "data": {
      "text/plain": [
       "['Bernaola', 'Chavez', 'Gomez', 'Navarro', 'Hermitaño', 'Gomez']"
      ]
     },
     "execution_count": 8,
     "metadata": {},
     "output_type": "execute_result"
    }
   ],
   "source": [
    "#Para agregar un elemento utilizamos append\n",
    "aula.append(\"Hermitaño\")\n",
    "aula.append(\"Gomez\")\n",
    "aula"
   ]
  },
  {
   "cell_type": "code",
   "execution_count": 9,
   "id": "6367e673-c6ab-4bee-a965-25743cc8ebfd",
   "metadata": {},
   "outputs": [
    {
     "data": {
      "text/plain": [
       "['Chavez', 'Gomez', 'Navarro', 'Hermitaño', 'Gomez']"
      ]
     },
     "execution_count": 9,
     "metadata": {},
     "output_type": "execute_result"
    }
   ],
   "source": [
    "#Para eliminar elementos utilizamos remove[]\n",
    "aula.remove(\"Bernaola\")\n",
    "aula"
   ]
  },
  {
   "cell_type": "code",
   "execution_count": 10,
   "id": "cc810563-b1d0-48e1-9afb-4a8c5de5fa83",
   "metadata": {},
   "outputs": [
    {
     "data": {
      "text/plain": [
       "['Chavez', 'Navarro', 'Hermitaño', 'Gomez']"
      ]
     },
     "execution_count": 10,
     "metadata": {},
     "output_type": "execute_result"
    }
   ],
   "source": [
    "#Si hubiera varios elementos de valores iguales se elimina la primera coincidencia\n",
    "aula.remove(\"Gomez\")\n",
    "aula"
   ]
  },
  {
   "cell_type": "code",
   "execution_count": 11,
   "id": "8992792d-ffd8-4c7f-9e3a-3b94b8c04cc5",
   "metadata": {},
   "outputs": [
    {
     "data": {
      "text/plain": [
       "4"
      ]
     },
     "execution_count": 11,
     "metadata": {},
     "output_type": "execute_result"
    }
   ],
   "source": [
    "#Para obtener el tamaño utilizamos len()\n",
    "len(aula)"
   ]
  },
  {
   "cell_type": "code",
   "execution_count": 12,
   "id": "45b91a19-8f78-40a0-81ee-3d35024e6cba",
   "metadata": {},
   "outputs": [
    {
     "name": "stdout",
     "output_type": "stream",
     "text": [
      "Chavez\n",
      "Navarro\n",
      "Hermitaño\n",
      "Gomez\n"
     ]
    }
   ],
   "source": [
    "#Para recorrrer podemos utilizar una estructura repetitiva\n",
    "for alumno in aula:\n",
    "    print(alumno)"
   ]
  },
  {
   "cell_type": "code",
   "execution_count": 13,
   "id": "4f177406-af2c-4325-96ba-8f6aae43b6ac",
   "metadata": {},
   "outputs": [
    {
     "data": {
      "text/plain": [
       "['Gomez', 'Hermitaño', 'Navarro', 'Chavez']"
      ]
     },
     "execution_count": 13,
     "metadata": {},
     "output_type": "execute_result"
    }
   ],
   "source": [
    "#Para invertir la lista utilizamos reverse()\n",
    "#invertir NO significa ordenar en forma descendente sin invertir la lista\n",
    "aula.reverse()\n",
    "aula"
   ]
  },
  {
   "cell_type": "code",
   "execution_count": 14,
   "id": "c1d95503-e788-470e-8dd2-37b2a09ab3e6",
   "metadata": {},
   "outputs": [
    {
     "data": {
      "text/plain": [
       "['Chavez', 'Gomez', 'Hermitaño', 'Navarro']"
      ]
     },
     "execution_count": 14,
     "metadata": {},
     "output_type": "execute_result"
    }
   ],
   "source": [
    "#Parar ordenar una lista utilizamos sort()\n",
    "aula.sort()\n",
    "aula"
   ]
  },
  {
   "cell_type": "code",
   "execution_count": 15,
   "id": "3dbe9754-3fed-4418-80bb-18ce71e20d37",
   "metadata": {},
   "outputs": [
    {
     "data": {
      "text/plain": [
       "('Bernaola', 'Chipana', 'Gomez', 'Navarro')"
      ]
     },
     "execution_count": 15,
     "metadata": {},
     "output_type": "execute_result"
    }
   ],
   "source": [
    "#1.2 Tuplas\n",
    "#Es una colección de elementos ordenada (Ordenado significa que tiene un índice) que no se pueden modificar, es inalterable.\n",
    "#No se pueden agregar elementos ni eliminar.\n",
    "#se identifica por los parentesis\n",
    "tupla_aula = ('Bernaola','Chipana','Gomez','Navarro')\n",
    "tupla_aula"
   ]
  },
  {
   "cell_type": "code",
   "execution_count": 16,
   "id": "b1969805-7bb0-4d36-be13-32f8d52de018",
   "metadata": {},
   "outputs": [
    {
     "data": {
      "text/plain": [
       "('Bernaola', 'Chipana', 'Gomez', 'Navarro')"
      ]
     },
     "execution_count": 16,
     "metadata": {},
     "output_type": "execute_result"
    }
   ],
   "source": [
    "#1.2 Tuplas\n",
    "#Es una colección de elementos ordenada (Ordenado significa que tiene un índice) que no se pueden modificar, es inalterable.\n",
    "#No se pueden agregar elementos ni eliminar.\n",
    "#se identifica por los parentesis\n",
    "tupla_aula = ('Bernaola','Chipana','Gomez','Navarro')\n",
    "tupla_aula"
   ]
  },
  {
   "cell_type": "code",
   "execution_count": 17,
   "id": "80674ed9-be0b-401a-806e-703b35f1a46a",
   "metadata": {},
   "outputs": [
    {
     "data": {
      "text/plain": [
       "'Gomez'"
      ]
     },
     "execution_count": 17,
     "metadata": {},
     "output_type": "execute_result"
    }
   ],
   "source": [
    "#Se puede extraer un elemento por su posición\n",
    "tupla_aula[2]"
   ]
  },
  {
   "cell_type": "code",
   "execution_count": 18,
   "id": "08c11f57-2dbc-4e06-8f86-e8a6b6a4a0ed",
   "metadata": {},
   "outputs": [
    {
     "data": {
      "text/plain": [
       "4"
      ]
     },
     "execution_count": 18,
     "metadata": {},
     "output_type": "execute_result"
    }
   ],
   "source": [
    "#Para saber la cantidad de elementos de una tupla utilizamos len()\n",
    "len(tupla_aula)"
   ]
  },
  {
   "cell_type": "code",
   "execution_count": 19,
   "id": "bd7efb06-3511-4646-881e-9b47cf0380f6",
   "metadata": {},
   "outputs": [
    {
     "data": {
      "text/plain": [
       "{'Bernaola', 'Chipana', 'Gomez', 'Navarro'}"
      ]
     },
     "execution_count": 19,
     "metadata": {},
     "output_type": "execute_result"
    }
   ],
   "source": [
    "#1.3 Conjuntos\n",
    "#Es una colección de elementos que no está ordenado\n",
    "#(Significa que no tiene un índice)\n",
    "conjunto_aula = {'Bernaola','Chipana','Gomez','Navarro'}\n",
    "conjunto_aula"
   ]
  },
  {
   "cell_type": "code",
   "execution_count": 20,
   "id": "94e1b6ef-ccfa-4c70-abe9-33d02c3e8004",
   "metadata": {},
   "outputs": [
    {
     "name": "stdout",
     "output_type": "stream",
     "text": [
      "Gomez\n",
      "Navarro\n",
      "Bernaola\n",
      "Chipana\n"
     ]
    }
   ],
   "source": [
    "#Se puede recorrer utilizando una estructura repetitiva\n",
    "#Ejemplo: for\n",
    "for alumno in conjunto_aula:\n",
    "    print(alumno)"
   ]
  },
  {
   "cell_type": "code",
   "execution_count": 21,
   "id": "4627ec97-6b10-4fc4-a006-8283926d82fe",
   "metadata": {},
   "outputs": [],
   "source": [
    "#Observación: No se puede acceder por posición pues no considera indexación\n",
    "#Por ejemplo:\n",
    "#conjunto_aula[2] devolvería un mensaje de error"
   ]
  },
  {
   "cell_type": "code",
   "execution_count": 22,
   "id": "f737d2ff-87ab-44a9-94e4-1b44c9597fec",
   "metadata": {},
   "outputs": [
    {
     "data": {
      "text/plain": [
       "4"
      ]
     },
     "execution_count": 22,
     "metadata": {},
     "output_type": "execute_result"
    }
   ],
   "source": [
    "#Para saber la cantidad de elementos utilizamos len()\n",
    "len(conjunto_aula)"
   ]
  },
  {
   "cell_type": "code",
   "execution_count": 23,
   "id": "9f837f5d-afbe-47f3-a33e-65d8d5266598",
   "metadata": {},
   "outputs": [
    {
     "data": {
      "text/plain": [
       "{'Bernaola', 'Chipana', 'Gomez', 'Navarro', 'Palomino'}"
      ]
     },
     "execution_count": 23,
     "metadata": {},
     "output_type": "execute_result"
    }
   ],
   "source": [
    "#Para agregar utilizamos la función add()\n",
    "conjunto_aula.add(\"Palomino\")\n",
    "conjunto_aula"
   ]
  },
  {
   "cell_type": "code",
   "execution_count": 24,
   "id": "daaa0399-7a9d-461a-8fa2-6f90dfed76b9",
   "metadata": {},
   "outputs": [
    {
     "data": {
      "text/plain": [
       "{'Bernaola', 'Gomez', 'Navarro', 'Palomino'}"
      ]
     },
     "execution_count": 24,
     "metadata": {},
     "output_type": "execute_result"
    }
   ],
   "source": [
    "#Parar eliminar elementos utilizamos la función remove()\n",
    "conjunto_aula.remove(\"Chipana\")\n",
    "conjunto_aula"
   ]
  },
  {
   "cell_type": "code",
   "execution_count": 25,
   "id": "90fc5114-501a-4c61-8fa8-9ff2d3f92281",
   "metadata": {},
   "outputs": [
    {
     "data": {
      "text/plain": [
       "{2: 'Bernaola',\n",
       " '1': 'Chipana',\n",
       " 'dos': 'Gomez',\n",
       " '3': 'Navarro',\n",
       " '0': 'Palomino'}"
      ]
     },
     "execution_count": 25,
     "metadata": {},
     "output_type": "execute_result"
    }
   ],
   "source": [
    "#1.4. Diccionarios\n",
    "#Es una colección de elementos, que están indexados,\n",
    "#no estan ordenados y se pueden modificar\n",
    "#Son escritos entre llaves y están formados por pares de elementos\n",
    "#INDICE:VALOR\n",
    "diccionario_aula = {2:'Bernaola', '1':'Chipana', 'dos':'Gomez', '3':'Navarro',\n",
    "                    '0':'Palomino'}\n",
    "diccionario_aula"
   ]
  },
  {
   "cell_type": "code",
   "execution_count": 26,
   "id": "c662036b-4dcb-439a-b211-55ed5fe58f79",
   "metadata": {},
   "outputs": [
    {
     "data": {
      "text/plain": [
       "'Palomino'"
      ]
     },
     "execution_count": 26,
     "metadata": {},
     "output_type": "execute_result"
    }
   ],
   "source": [
    "#Del Diccionario: diccionario_aula extraer el valor cuyo índice sea cero en String:\n",
    "diccionario_aula['0']"
   ]
  },
  {
   "cell_type": "code",
   "execution_count": 27,
   "id": "d0dd7b1c-2d1b-40a8-ba67-ed8524cc5cc3",
   "metadata": {},
   "outputs": [
    {
     "data": {
      "text/plain": [
       "'Bernaola'"
      ]
     },
     "execution_count": 27,
     "metadata": {},
     "output_type": "execute_result"
    }
   ],
   "source": [
    "diccionario_aula[2]"
   ]
  },
  {
   "cell_type": "code",
   "execution_count": 28,
   "id": "4eabb03f-592b-49b5-9b15-baddcc3825b8",
   "metadata": {},
   "outputs": [
    {
     "data": {
      "text/plain": [
       "'Chipana'"
      ]
     },
     "execution_count": 28,
     "metadata": {},
     "output_type": "execute_result"
    }
   ],
   "source": [
    "diccionario_aula[\"1\"]"
   ]
  },
  {
   "cell_type": "code",
   "execution_count": 29,
   "id": "551ad612-b848-4f57-93a1-622a79378fd2",
   "metadata": {},
   "outputs": [
    {
     "data": {
      "text/plain": [
       "'Gomez'"
      ]
     },
     "execution_count": 29,
     "metadata": {},
     "output_type": "execute_result"
    }
   ],
   "source": [
    "diccionario_aula[\"dos\"]"
   ]
  },
  {
   "cell_type": "code",
   "execution_count": 31,
   "id": "1b12556e-db98-449f-b7bf-925d60d99c8b",
   "metadata": {},
   "outputs": [
    {
     "data": {
      "text/plain": [
       "{2: 'Bernaola',\n",
       " '1': 'Chipana',\n",
       " 'dos': 'Gomez',\n",
       " '3': 'Navarro',\n",
       " '0': 'Palomino',\n",
       " '20': 'Vilca'}"
      ]
     },
     "execution_count": 31,
     "metadata": {},
     "output_type": "execute_result"
    }
   ],
   "source": [
    "#Para añadir un par de elementos al diccionario hacemos:\n",
    "diccionario_aula['20'] = \"Vilca\"\n",
    "diccionario_aula"
   ]
  },
  {
   "cell_type": "code",
   "execution_count": 32,
   "id": "93cef097-f37f-411c-a566-460877599437",
   "metadata": {},
   "outputs": [
    {
     "data": {
      "text/plain": [
       "{'1': 'Chipana',\n",
       " 'dos': 'Gomez',\n",
       " '3': 'Navarro',\n",
       " '0': 'Palomino',\n",
       " '20': 'Vilca'}"
      ]
     },
     "execution_count": 32,
     "metadata": {},
     "output_type": "execute_result"
    }
   ],
   "source": [
    "#Para eliminar un valor se utiliza pop()\n",
    "#Por ejemplo,eliminar el elmento de índice dos.ejemplo: Para eliminar a Bernaola que tendríamos que hacer:\n",
    "diccionario_aula.pop(2)\n",
    "diccionario_aula"
   ]
  },
  {
   "cell_type": "code",
   "execution_count": 33,
   "id": "300fbfcb-9fc6-460f-a8f5-e973aed43f39",
   "metadata": {},
   "outputs": [
    {
     "data": {
      "text/plain": [
       "{'1': 'Chipana', '3': 'Navarro', '0': 'Palomino', '20': 'Vilca'}"
      ]
     },
     "execution_count": 33,
     "metadata": {},
     "output_type": "execute_result"
    }
   ],
   "source": [
    "#Tambien se puede eliminar utilizando del()\n",
    "del(diccionario_aula[\"dos\"])\n",
    "diccionario_aula"
   ]
  },
  {
   "cell_type": "code",
   "execution_count": 34,
   "id": "ec641219-dd7c-4c0a-b52e-087afce3f6c2",
   "metadata": {},
   "outputs": [
    {
     "name": "stdout",
     "output_type": "stream",
     "text": [
      "1\n",
      "3\n",
      "0\n",
      "20\n"
     ]
    }
   ],
   "source": [
    "#Para recorrer todos los elementos podemos utilizar for\n",
    "#En este ejemplo devuelve los índices\n",
    "for indice in diccionario_aula:\n",
    "    print(indice)"
   ]
  },
  {
   "cell_type": "code",
   "execution_count": 35,
   "id": "aae9d21e-60b8-42c1-9afa-908161b2c2b5",
   "metadata": {},
   "outputs": [
    {
     "name": "stdout",
     "output_type": "stream",
     "text": [
      "1 Chipana\n",
      "3 Navarro\n",
      "0 Palomino\n",
      "20 Vilca\n"
     ]
    }
   ],
   "source": [
    "#Para obtener el indice y el valor de cada elemento utilizamos items()\n",
    "for indice, valor in diccionario_aula.items():\n",
    "    print(indice, valor)"
   ]
  },
  {
   "cell_type": "code",
   "execution_count": 36,
   "id": "b2aea5fe-09bb-48fa-9e28-f8d071a2bdfe",
   "metadata": {},
   "outputs": [],
   "source": [
    "#1.5. Ejercicio\n",
    "#Dado una lista de [BERNAL, BERNAOLA, CABALLERO, CALDERON, CARRASCO, CENTENO, CHALQUE, CHAVEZ, CONDORI, CRUZ, PALACIOS, PALOMINO, QUISPE, RAMOS, RODAS, SILVERA, TALAVERA, TINEO, VICTORIO, VILCA, ZEA]\n",
    "#Diseñar un código que muestre si el apellido de un estudiante (Ingresado por teclado) forma parte de la lista\n",
    "#tiempo: 12 minutos"
   ]
  },
  {
   "cell_type": "code",
   "execution_count": 43,
   "id": "fdf526be-cb20-4aeb-9314-1fc2c13414f5",
   "metadata": {},
   "outputs": [
    {
     "name": "stdout",
     "output_type": "stream",
     "text": [
      "Ingrese apellido: \n"
     ]
    },
    {
     "name": "stdin",
     "output_type": "stream",
     "text": [
      " Zuñiga\n"
     ]
    },
    {
     "data": {
      "text/plain": [
       "False"
      ]
     },
     "execution_count": 43,
     "metadata": {},
     "output_type": "execute_result"
    }
   ],
   "source": [
    "#Solución\n",
    "aula = ['Bernal', 'Bernaola', 'Caballero', 'Calderon', 'Carrasco', 'Centeno', 'Chalque', 'Chavez', 'Condori', 'Cruz', 'Palacios', 'Palomino', 'Quispe', 'Ramos', 'Rodas', 'Silvera', 'Talavera', 'Tineo', 'Victorio', 'Vilca', 'Zea']\n",
    "print(\"Ingrese apellido: \")\n",
    "apellido = input()\n",
    "apellido in aula"
   ]
  },
  {
   "cell_type": "code",
   "execution_count": 46,
   "id": "eb87b5ea-53b3-40b8-991b-7b2ba30de88f",
   "metadata": {},
   "outputs": [
    {
     "name": "stdout",
     "output_type": "stream",
     "text": [
      "Ingrese apellido: \n"
     ]
    },
    {
     "name": "stdin",
     "output_type": "stream",
     "text": [
      " Zuñiga\n"
     ]
    },
    {
     "name": "stdout",
     "output_type": "stream",
     "text": [
      "El apellido no está en la lista.\n"
     ]
    }
   ],
   "source": [
    "#Solución mejorada con If y Else\n",
    "aula = ['Bernal', 'Bernaola', 'Caballero', 'Calderon', 'Carrasco', 'Centeno', 'Chalque', 'Chavez', 'Condori', 'Cruz', 'Palacios', 'Palomino', 'Quispe', 'Ramos', 'Rodas', 'Silvera', 'Talavera', 'Tineo', 'Victorio', 'Vilca', 'Zea']\n",
    "print(\"Ingrese apellido: \")\n",
    "apellido = input()\n",
    "if apellido in aula:\n",
    "    print(\"¡El apellido está en la lista!\")\n",
    "else:\n",
    "    print(\"El apellido no está en la lista.\")"
   ]
  },
  {
   "cell_type": "code",
   "execution_count": null,
   "id": "783d0471-10e3-4632-b18e-8da2bd253f08",
   "metadata": {},
   "outputs": [],
   "source": []
  }
 ],
 "metadata": {
  "kernelspec": {
   "display_name": "Python 3 (ipykernel)",
   "language": "python",
   "name": "python3"
  },
  "language_info": {
   "codemirror_mode": {
    "name": "ipython",
    "version": 3
   },
   "file_extension": ".py",
   "mimetype": "text/x-python",
   "name": "python",
   "nbconvert_exporter": "python",
   "pygments_lexer": "ipython3",
   "version": "3.11.7"
  }
 },
 "nbformat": 4,
 "nbformat_minor": 5
}
