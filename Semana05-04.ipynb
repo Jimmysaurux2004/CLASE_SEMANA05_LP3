{
 "cells": [
  {
   "cell_type": "markdown",
   "id": "7f44502c-0900-4efd-bfea-205558c53a59",
   "metadata": {},
   "source": [
    "# SEMANA 05\n",
    "Estudiante: Jimmy Alexander Huerta Vasquez"
   ]
  },
  {
   "cell_type": "markdown",
   "id": "574af376-550b-4761-801d-cb01a52d203a",
   "metadata": {},
   "source": [
    "Agenda\n",
    "1. Colecciones de datos\n",
    "2. Estructuras decisivas y repetitivas\n",
    "3. Clases y objetos\n",
    "4. Funciones"
   ]
  },
  {
   "cell_type": "markdown",
   "id": "a180aa02-53cc-478f-b523-648786d39d38",
   "metadata": {},
   "source": [
    "4. Funciones"
   ]
  },
  {
   "cell_type": "code",
   "execution_count": 1,
   "id": "123ddd92-1ad8-4e3a-b666-d3ea27850d64",
   "metadata": {},
   "outputs": [],
   "source": [
    "#También conocidos como métodos\n",
    "\n",
    "#Para crear un método utilizamos: def\n",
    "#Tenemos 4 métodos:\n",
    "#- Métodos vacíos\n",
    "#- Métodos que reciben valores\n",
    "#- Métodos que devuelven un valor\n",
    "#- Métodos que reciben y devuelven valores"
   ]
  },
  {
   "cell_type": "code",
   "execution_count": 2,
   "id": "cf656fe0-de30-43ff-9e67-918fc68352e7",
   "metadata": {},
   "outputs": [],
   "source": [
    "#3.1 Métodos vacíos\n",
    "#Explicación: No recibe valores (Parámetros)\n",
    "\n",
    "def saludo():\n",
    "    print(\"Bienvenidos al curso de LP3\")\n",
    "    print(\"**** Python ****\")"
   ]
  },
  {
   "cell_type": "code",
   "execution_count": 3,
   "id": "ad6dcada-1d76-4652-be76-71537d28555a",
   "metadata": {},
   "outputs": [
    {
     "name": "stdout",
     "output_type": "stream",
     "text": [
      "Bienvenidos al curso de LP3\n",
      "**** Python ****\n"
     ]
    }
   ],
   "source": [
    "saludo()"
   ]
  },
  {
   "cell_type": "code",
   "execution_count": 4,
   "id": "8acac281-e2d1-432b-b9f9-86e3ab9492eb",
   "metadata": {},
   "outputs": [],
   "source": [
    "#3.2 Métodos que reciben valores\n",
    "\n",
    "def factorial(numero):\n",
    "    fac = 1\n",
    "    for i in range(1,numero+1):\n",
    "        fac*=i\n",
    "        # fac = fac*i\n",
    "    print(f\"El factorial es: {fac}\")"
   ]
  },
  {
   "cell_type": "code",
   "execution_count": 5,
   "id": "a5f693be-fc40-4e4d-9afb-b4f750b2c98e",
   "metadata": {},
   "outputs": [
    {
     "name": "stdin",
     "output_type": "stream",
     "text": [
      "Ingrese Numero:  5\n"
     ]
    },
    {
     "name": "stdout",
     "output_type": "stream",
     "text": [
      "El factorial es: 120\n"
     ]
    }
   ],
   "source": [
    "numero = int(input(\"Ingrese Numero: \"))\n",
    "factorial(numero)"
   ]
  },
  {
   "cell_type": "code",
   "execution_count": 6,
   "id": "1bf3614c-27be-45aa-9ace-bdcf0dff838b",
   "metadata": {},
   "outputs": [],
   "source": [
    "#3.3 Métodos que devuelven valores\n",
    "def saludo2():\n",
    "    mensaje = \"Bienvenidos a LP3\"\n",
    "    return mensaje"
   ]
  },
  {
   "cell_type": "code",
   "execution_count": 7,
   "id": "ec350196-2840-43f2-bb80-e2d9afbe7882",
   "metadata": {},
   "outputs": [
    {
     "name": "stdout",
     "output_type": "stream",
     "text": [
      "Bienvenidos a LP3\n"
     ]
    }
   ],
   "source": [
    "print(saludo2())"
   ]
  },
  {
   "cell_type": "code",
   "execution_count": 8,
   "id": "9f853bf1-0250-497f-8c5d-a0d3e7a0b692",
   "metadata": {},
   "outputs": [],
   "source": [
    "#3.4 Métodos que reciben y devuelven valores\n",
    "\n",
    "def factorial2(numero):\n",
    "    fac = 1\n",
    "    for i in range(1,numero+1):\n",
    "        fac*=i\n",
    "        # fac = fac*i\n",
    "    return fac"
   ]
  },
  {
   "cell_type": "code",
   "execution_count": 9,
   "id": "def17f04-9c26-458a-a3c8-3ba7ec1d448d",
   "metadata": {},
   "outputs": [
    {
     "name": "stdin",
     "output_type": "stream",
     "text": [
      "Numero:  5\n"
     ]
    },
    {
     "name": "stdout",
     "output_type": "stream",
     "text": [
      "El factorial de 5 es 120\n"
     ]
    }
   ],
   "source": [
    "numero = int(input(\"Numero: \"))\n",
    "print(f\"El factorial de {numero} es {factorial2(numero)}\")"
   ]
  },
  {
   "cell_type": "code",
   "execution_count": 10,
   "id": "57a2e31f-c6a2-4435-ae92-931dd39c0d8a",
   "metadata": {},
   "outputs": [],
   "source": [
    "#Otro ejemplo\n",
    "#Calcular el IGV\n",
    "def obtenerigv(importe):\n",
    "    return importe*0.19"
   ]
  },
  {
   "cell_type": "code",
   "execution_count": 11,
   "id": "7a0160e5-af16-4b27-8cfe-ef4aed92ba23",
   "metadata": {},
   "outputs": [
    {
     "data": {
      "text/plain": [
       "28.5"
      ]
     },
     "execution_count": 11,
     "metadata": {},
     "output_type": "execute_result"
    }
   ],
   "source": [
    "obtenerigv(150)"
   ]
  },
  {
   "cell_type": "code",
   "execution_count": 12,
   "id": "9b831647-2121-4b20-b520-c63e1375085e",
   "metadata": {},
   "outputs": [
    {
     "data": {
      "text/plain": [
       "140"
      ]
     },
     "execution_count": 12,
     "metadata": {},
     "output_type": "execute_result"
    }
   ],
   "source": [
    "factorial2(5)+20"
   ]
  },
  {
   "cell_type": "code",
   "execution_count": null,
   "id": "c5b0e156-ab13-446d-8090-60f67080bda7",
   "metadata": {},
   "outputs": [],
   "source": []
  }
 ],
 "metadata": {
  "kernelspec": {
   "display_name": "Python 3 (ipykernel)",
   "language": "python",
   "name": "python3"
  },
  "language_info": {
   "codemirror_mode": {
    "name": "ipython",
    "version": 3
   },
   "file_extension": ".py",
   "mimetype": "text/x-python",
   "name": "python",
   "nbconvert_exporter": "python",
   "pygments_lexer": "ipython3",
   "version": "3.11.7"
  }
 },
 "nbformat": 4,
 "nbformat_minor": 5
}
